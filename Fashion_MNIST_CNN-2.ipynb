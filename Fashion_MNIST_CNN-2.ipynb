{
 "cells": [
  {
   "cell_type": "code",
   "execution_count": 4,
   "metadata": {},
   "outputs": [],
   "source": [
    "import tensorflow as tf\n",
    "from tensorflow import keras"
   ]
  },
  {
   "cell_type": "code",
   "execution_count": 70,
   "metadata": {},
   "outputs": [],
   "source": [
    "# #from tensorflow.examples.tutorials.fashion_mnist import input_data\n",
    "# fashion_mnist=keras.datasets.fashion_mnist"
   ]
  },
  {
   "cell_type": "code",
   "execution_count": 30,
   "metadata": {},
   "outputs": [
    {
     "name": "stdout",
     "output_type": "stream",
     "text": [
      "WARNING:tensorflow:From /home/onepanel/.conda/lib/python3.6/site-packages/tensorflow/contrib/learn/python/learn/datasets/base.py:252: _internal_retry.<locals>.wrap.<locals>.wrapped_fn (from tensorflow.contrib.learn.python.learn.datasets.base) is deprecated and will be removed in a future version.\n",
      "Instructions for updating:\n",
      "Please use urllib or similar directly.\n",
      "Successfully downloaded train-images-idx3-ubyte.gz 26421880 bytes.\n",
      "Extracting data_fashion/train-images-idx3-ubyte.gz\n",
      "Successfully downloaded train-labels-idx1-ubyte.gz 29515 bytes.\n",
      "Extracting data_fashion/train-labels-idx1-ubyte.gz\n",
      "Successfully downloaded t10k-images-idx3-ubyte.gz 4422102 bytes.\n",
      "Extracting data_fashion/t10k-images-idx3-ubyte.gz\n",
      "Successfully downloaded t10k-labels-idx1-ubyte.gz 5148 bytes.\n",
      "Extracting data_fashion/t10k-labels-idx1-ubyte.gz\n"
     ]
    }
   ],
   "source": [
    "from tensorflow.examples.tutorials.mnist import input_data\n",
    "fashion_mnist = input_data.read_data_sets('data_fashion', source_url='http://fashion-mnist.s3-website.eu-central-1.amazonaws.com/',one_hot=True)"
   ]
  },
  {
   "cell_type": "code",
   "execution_count": 10,
   "metadata": {},
   "outputs": [],
   "source": [
    "def init_wgts(shape):\n",
    "    init_random_dist=tf.truncated_normal(shape,stddev=0.1)\n",
    "    return tf.Variable(init_random_dist)"
   ]
  },
  {
   "cell_type": "code",
   "execution_count": 11,
   "metadata": {},
   "outputs": [],
   "source": [
    "def init_bias(shape):\n",
    "    init_bias_vals=tf.constant(0.1,shape=shape)\n",
    "    return tf.Variable(init_bias_vals)"
   ]
  },
  {
   "cell_type": "code",
   "execution_count": 12,
   "metadata": {},
   "outputs": [],
   "source": [
    "def conv2d(x,W):\n",
    "    \"\"\"\n",
    "    x->[batch,H,W,Channels]\n",
    "    W->[filter H,Filter W, Channel IN,Channel OUT]\n",
    "    Use a stride of 1,keep padding same\n",
    "    \"\"\"\n",
    "    return tf.nn.conv2d(x,W,strides=[1,1,1,1],padding='SAME')"
   ]
  },
  {
   "cell_type": "code",
   "execution_count": 13,
   "metadata": {},
   "outputs": [],
   "source": [
    "def max_pool_2by2(x):\n",
    "    \"\"\"\n",
    "    x->[batch,h,w,channels], a 4d tensor\n",
    "    \"\"\"\n",
    "    return tf.nn.max_pool(x,ksize=[1,2,2,1],strides=[1,2,2,1],padding='SAME')"
   ]
  },
  {
   "cell_type": "code",
   "execution_count": 14,
   "metadata": {},
   "outputs": [],
   "source": [
    "def convolutional_layer(input_x,shape):\n",
    "    W=init_wgts(shape)\n",
    "    b=init_bias([shape[3]])\n",
    "    return tf.nn.relu(conv2d(input_x,W)+b)"
   ]
  },
  {
   "cell_type": "code",
   "execution_count": 15,
   "metadata": {},
   "outputs": [],
   "source": [
    "def normal_full_layer(input_layer,size):\n",
    "    input_size=int(input_layer.get_shape()[1])\n",
    "    W=init_wgts([input_size,size])\n",
    "    b=init_bias([size])\n",
    "    return tf.matmul(input_layer,W)+b"
   ]
  },
  {
   "cell_type": "code",
   "execution_count": 16,
   "metadata": {},
   "outputs": [],
   "source": [
    "#Placeholder\n",
    "x=tf.placeholder(tf.float32,shape=[None,784])\n",
    "y_true=tf.placeholder(tf.float32,shape=[None,10])"
   ]
  },
  {
   "cell_type": "code",
   "execution_count": 17,
   "metadata": {},
   "outputs": [],
   "source": [
    "x_image=tf.reshape(x,[-1,28,28,1])"
   ]
  },
  {
   "cell_type": "code",
   "execution_count": 18,
   "metadata": {},
   "outputs": [],
   "source": [
    "#Layer 1\n",
    "convo_1=convolutional_layer(x_image,shape=[5,5,1,32])\n",
    "convo_1_pooling=max_pool_2by2(convo_1)\n",
    "#Layer 2\n",
    "convo_2=convolutional_layer(convo_1_pooling,shape=[5,5,32,64])\n",
    "convo_2_pooling=max_pool_2by2(convo_2)\n",
    "#flatten it out\n",
    "convo_2_flat=tf.reshape(convo_2_pooling,[-1,7*7*64])\n",
    "full_layer_one=tf.nn.relu(normal_full_layer(convo_2_flat,1064))"
   ]
  },
  {
   "cell_type": "code",
   "execution_count": 19,
   "metadata": {},
   "outputs": [],
   "source": [
    "hold_prob=tf.placeholder(tf.float32)\n",
    "full_one_dropout=tf.nn.dropout(full_layer_one,keep_prob=hold_prob)"
   ]
  },
  {
   "cell_type": "code",
   "execution_count": 20,
   "metadata": {},
   "outputs": [],
   "source": [
    "y_pred=normal_full_layer(full_one_dropout,10)"
   ]
  },
  {
   "cell_type": "code",
   "execution_count": 21,
   "metadata": {},
   "outputs": [],
   "source": [
    "cross_entropy=tf.reduce_mean(tf.nn.softmax_cross_entropy_with_logits_v2(labels=y_true,logits=y_pred))"
   ]
  },
  {
   "cell_type": "code",
   "execution_count": 22,
   "metadata": {},
   "outputs": [],
   "source": [
    "#optimiser\n",
    "optimizer=tf.train.AdamOptimizer(learning_rate=0.0001)\n",
    "train=optimizer.minimize(cross_entropy)"
   ]
  },
  {
   "cell_type": "code",
   "execution_count": 23,
   "metadata": {},
   "outputs": [],
   "source": [
    "init=tf.global_variables_initializer()"
   ]
  },
  {
   "cell_type": "code",
   "execution_count": 24,
   "metadata": {},
   "outputs": [],
   "source": [
    "steps=5000"
   ]
  },
  {
   "cell_type": "code",
   "execution_count": 34,
   "metadata": {},
   "outputs": [
    {
     "name": "stdout",
     "output_type": "stream",
     "text": [
      "Currently on step0\n",
      "Accuracy is:\n",
      "0.0058\n",
      "\n",
      "\n",
      "Currently on step100\n",
      "Accuracy is:\n",
      "0.7772\n",
      "\n",
      "\n",
      "Currently on step200\n",
      "Accuracy is:\n",
      "0.8233\n",
      "\n",
      "\n",
      "Currently on step300\n",
      "Accuracy is:\n",
      "0.8375\n",
      "\n",
      "\n",
      "Currently on step400\n",
      "Accuracy is:\n",
      "0.8485\n",
      "\n",
      "\n",
      "Currently on step500\n",
      "Accuracy is:\n",
      "0.8531\n",
      "\n",
      "\n",
      "Currently on step600\n",
      "Accuracy is:\n",
      "0.8604\n",
      "\n",
      "\n",
      "Currently on step700\n",
      "Accuracy is:\n",
      "0.8632\n",
      "\n",
      "\n",
      "Currently on step800\n",
      "Accuracy is:\n",
      "0.8665\n",
      "\n",
      "\n",
      "Currently on step900\n",
      "Accuracy is:\n",
      "0.8726\n",
      "\n",
      "\n",
      "Currently on step1000\n",
      "Accuracy is:\n",
      "0.8718\n",
      "\n",
      "\n",
      "Currently on step1100\n",
      "Accuracy is:\n",
      "0.8748\n",
      "\n",
      "\n",
      "Currently on step1200\n",
      "Accuracy is:\n",
      "0.8783\n",
      "\n",
      "\n",
      "Currently on step1300\n",
      "Accuracy is:\n",
      "0.8799\n",
      "\n",
      "\n",
      "Currently on step1400\n",
      "Accuracy is:\n",
      "0.8819\n",
      "\n",
      "\n",
      "Currently on step1500\n",
      "Accuracy is:\n",
      "0.884\n",
      "\n",
      "\n",
      "Currently on step1600\n",
      "Accuracy is:\n",
      "0.8839\n",
      "\n",
      "\n",
      "Currently on step1700\n",
      "Accuracy is:\n",
      "0.8864\n",
      "\n",
      "\n",
      "Currently on step1800\n",
      "Accuracy is:\n",
      "0.8854\n",
      "\n",
      "\n",
      "Currently on step1900\n",
      "Accuracy is:\n",
      "0.8901\n",
      "\n",
      "\n",
      "Currently on step2000\n",
      "Accuracy is:\n",
      "0.8889\n",
      "\n",
      "\n",
      "Currently on step2100\n",
      "Accuracy is:\n",
      "0.8919\n",
      "\n",
      "\n",
      "Currently on step2200\n",
      "Accuracy is:\n",
      "0.8936\n",
      "\n",
      "\n",
      "Currently on step2300\n",
      "Accuracy is:\n",
      "0.8933\n",
      "\n",
      "\n",
      "Currently on step2400\n",
      "Accuracy is:\n",
      "0.894\n",
      "\n",
      "\n",
      "Currently on step2500\n",
      "Accuracy is:\n",
      "0.8952\n",
      "\n",
      "\n",
      "Currently on step2600\n",
      "Accuracy is:\n",
      "0.8974\n",
      "\n",
      "\n",
      "Currently on step2700\n",
      "Accuracy is:\n",
      "0.8975\n",
      "\n",
      "\n",
      "Currently on step2800\n",
      "Accuracy is:\n",
      "0.8989\n",
      "\n",
      "\n",
      "Currently on step2900\n",
      "Accuracy is:\n",
      "0.8971\n",
      "\n",
      "\n",
      "Currently on step3000\n",
      "Accuracy is:\n",
      "0.897\n",
      "\n",
      "\n",
      "Currently on step3100\n",
      "Accuracy is:\n",
      "0.8987\n",
      "\n",
      "\n",
      "Currently on step3200\n",
      "Accuracy is:\n",
      "0.9014\n",
      "\n",
      "\n",
      "Currently on step3300\n",
      "Accuracy is:\n",
      "0.8987\n",
      "\n",
      "\n",
      "Currently on step3400\n",
      "Accuracy is:\n",
      "0.8998\n",
      "\n",
      "\n",
      "Currently on step3500\n",
      "Accuracy is:\n",
      "0.9029\n",
      "\n",
      "\n",
      "Currently on step3600\n",
      "Accuracy is:\n",
      "0.9025\n",
      "\n",
      "\n",
      "Currently on step3700\n",
      "Accuracy is:\n",
      "0.9045\n",
      "\n",
      "\n",
      "Currently on step3800\n",
      "Accuracy is:\n",
      "0.9035\n",
      "\n",
      "\n",
      "Currently on step3900\n",
      "Accuracy is:\n",
      "0.9047\n",
      "\n",
      "\n",
      "Currently on step4000\n",
      "Accuracy is:\n",
      "0.9058\n",
      "\n",
      "\n",
      "Currently on step4100\n",
      "Accuracy is:\n",
      "0.9042\n",
      "\n",
      "\n",
      "Currently on step4200\n",
      "Accuracy is:\n",
      "0.9061\n",
      "\n",
      "\n",
      "Currently on step4300\n",
      "Accuracy is:\n",
      "0.9069\n",
      "\n",
      "\n",
      "Currently on step4400\n",
      "Accuracy is:\n",
      "0.904\n",
      "\n",
      "\n",
      "Currently on step4500\n",
      "Accuracy is:\n",
      "0.9046\n",
      "\n",
      "\n",
      "Currently on step4600\n",
      "Accuracy is:\n",
      "0.907\n",
      "\n",
      "\n",
      "Currently on step4700\n",
      "Accuracy is:\n",
      "0.9072\n",
      "\n",
      "\n",
      "Currently on step4800\n",
      "Accuracy is:\n",
      "0.9083\n",
      "\n",
      "\n",
      "Currently on step4900\n",
      "Accuracy is:\n",
      "0.9081\n",
      "\n",
      "\n"
     ]
    }
   ],
   "source": [
    "session=tf.Session()\n",
    "with session as sess:\n",
    "    sess.run(init)\n",
    "    for i in range(steps):\n",
    "        batch_x,batch_y=fashion_mnist.train.next_batch(500)\n",
    "        sess.run(train,feed_dict={x:batch_x,y_true:batch_y,hold_prob:0.5})\n",
    "        if i%100==0:\n",
    "            print(\"Currently on step{}\".format(i))\n",
    "            print(\"Accuracy is:\")\n",
    "            matches=tf.equal(tf.argmax(y_pred,1),tf.argmax(y_true,1))\n",
    "            acc=tf.reduce_mean(tf.cast(matches,tf.float32))\n",
    "            print(sess.run(acc,feed_dict={x:fashion_mnist.test.images,y_true:fashion_mnist.test.labels,hold_prob:1.0}))\n",
    "            print('\\n')"
   ]
  },
  {
   "cell_type": "code",
   "execution_count": 31,
   "metadata": {},
   "outputs": [],
   "source": [
    "import matplotlib.pyplot as plt\n",
    "%matplotlib inline"
   ]
  },
  {
   "cell_type": "code",
   "execution_count": 32,
   "metadata": {},
   "outputs": [
    {
     "data": {
      "text/plain": [
       "<matplotlib.image.AxesImage at 0x7f80f8fa02b0>"
      ]
     },
     "execution_count": 32,
     "metadata": {},
     "output_type": "execute_result"
    },
    {
     "data": {
      "image/png": "[encoded data removed]",
      "text/plain": [
       "<Figure size 432x288 with 1 Axes>"
      ]
     },
     "metadata": {
      "needs_background": "light"
     },
     "output_type": "display_data"
    }
   ],
   "source": [
    "#(train_images, train_labels), (test_images, test_labels) = fashion_mnist.load_data()\n",
    "my_img=fashion_mnist.train.images[567].reshape(28,28)\n",
    "plt.imshow(my_img)"
   ]
  },
  {
   "cell_type": "code",
   "execution_count": 33,
   "metadata": {},
   "outputs": [],
   "source": [
    "# plt.figure()\n",
    "# plt.imshow(train_images[390])\n",
    "# plt.colorbar()\n",
    "# plt.grid(False)"
   ]
  }
 ],
 "metadata": {
  "kernelspec": {
   "display_name": "Python 3",
   "language": "python",
   "name": "python3"
  },
  "language_info": {
   "codemirror_mode": {
    "name": "ipython",
    "version": 3
   },
   "file_extension": ".py",
   "mimetype": "text/x-python",
   "name": "python",
   "nbconvert_exporter": "python",
   "pygments_lexer": "ipython3",
   "version": "3.6.5"
  }
 },
 "nbformat": 4,
 "nbformat_minor": 2
}
